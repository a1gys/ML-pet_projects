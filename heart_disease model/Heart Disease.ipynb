{
 "cells": [
  {
   "cell_type": "code",
   "execution_count": 157,
   "id": "e253c899",
   "metadata": {},
   "outputs": [],
   "source": [
    "import numpy as np\n",
    "import pandas as pd\n",
    "import matplotlib.pyplot as plt\n",
    "%matplotlib inline"
   ]
  },
  {
   "cell_type": "code",
   "execution_count": 158,
   "id": "3f02e294",
   "metadata": {},
   "outputs": [
    {
     "name": "stdout",
     "output_type": "stream",
     "text": [
      "6\n"
     ]
    }
   ],
   "source": [
    "data_path = 'processed.cleveland.data'\n",
    "\n",
    "# Counting how many rows have a missing value\n",
    "count = 0\n",
    "with open(data_path) as file:\n",
    "    for line in file.readlines():\n",
    "        if '?' in line:\n",
    "            count += 1\n",
    "print(count)\n",
    "\n",
    "# Rows with missing values won't be included in the data\n",
    "n_patients = 297\n",
    "n_features = 14"
   ]
  },
  {
   "cell_type": "code",
   "execution_count": 159,
   "id": "58029ff7",
   "metadata": {},
   "outputs": [],
   "source": [
    "from collections import deque\n",
    "def load_data(data_path, n_patients, n_features):\n",
    "    '''\n",
    "    Load heart disease data from file and return it in numpy array\n",
    "    @param data_path: the path of the file\n",
    "    @param n_patients: the number of instances without missing values\n",
    "    @param n_features: the number of features in the dataset\n",
    "    @return: formatted data in ndarray of [patient, feature]\n",
    "    '''\n",
    "    lists = deque()\n",
    "    with open(data_path) as file:\n",
    "        for line in file.readlines():\n",
    "            if '?' not in line:\n",
    "                features = line.split(',')\n",
    "                features[-1] = features[-1][0]\n",
    "                features = [float(feature) for feature in features]\n",
    "                lists.append(features)\n",
    "    data = np.array(lists, dtype=np.float32)\n",
    "    return data"
   ]
  },
  {
   "cell_type": "code",
   "execution_count": 160,
   "id": "5a890115",
   "metadata": {},
   "outputs": [],
   "source": [
    "data = load_data(data_path, n_patients, 14)"
   ]
  },
  {
   "cell_type": "code",
   "execution_count": 161,
   "id": "d702e4af",
   "metadata": {},
   "outputs": [
    {
     "data": {
      "text/html": [
       "<div>\n",
       "<style scoped>\n",
       "    .dataframe tbody tr th:only-of-type {\n",
       "        vertical-align: middle;\n",
       "    }\n",
       "\n",
       "    .dataframe tbody tr th {\n",
       "        vertical-align: top;\n",
       "    }\n",
       "\n",
       "    .dataframe thead th {\n",
       "        text-align: right;\n",
       "    }\n",
       "</style>\n",
       "<table border=\"1\" class=\"dataframe\">\n",
       "  <thead>\n",
       "    <tr style=\"text-align: right;\">\n",
       "      <th></th>\n",
       "      <th>0</th>\n",
       "      <th>1</th>\n",
       "      <th>2</th>\n",
       "      <th>3</th>\n",
       "      <th>4</th>\n",
       "      <th>5</th>\n",
       "      <th>6</th>\n",
       "      <th>7</th>\n",
       "      <th>8</th>\n",
       "      <th>9</th>\n",
       "      <th>10</th>\n",
       "      <th>11</th>\n",
       "      <th>12</th>\n",
       "      <th>13</th>\n",
       "    </tr>\n",
       "  </thead>\n",
       "  <tbody>\n",
       "    <tr>\n",
       "      <th>0</th>\n",
       "      <td>63.0</td>\n",
       "      <td>1.0</td>\n",
       "      <td>1.0</td>\n",
       "      <td>145.0</td>\n",
       "      <td>233.0</td>\n",
       "      <td>1.0</td>\n",
       "      <td>2.0</td>\n",
       "      <td>150.0</td>\n",
       "      <td>0.0</td>\n",
       "      <td>2.3</td>\n",
       "      <td>3.0</td>\n",
       "      <td>0.0</td>\n",
       "      <td>6.0</td>\n",
       "      <td>0.0</td>\n",
       "    </tr>\n",
       "    <tr>\n",
       "      <th>1</th>\n",
       "      <td>67.0</td>\n",
       "      <td>1.0</td>\n",
       "      <td>4.0</td>\n",
       "      <td>160.0</td>\n",
       "      <td>286.0</td>\n",
       "      <td>0.0</td>\n",
       "      <td>2.0</td>\n",
       "      <td>108.0</td>\n",
       "      <td>1.0</td>\n",
       "      <td>1.5</td>\n",
       "      <td>2.0</td>\n",
       "      <td>3.0</td>\n",
       "      <td>3.0</td>\n",
       "      <td>2.0</td>\n",
       "    </tr>\n",
       "    <tr>\n",
       "      <th>2</th>\n",
       "      <td>67.0</td>\n",
       "      <td>1.0</td>\n",
       "      <td>4.0</td>\n",
       "      <td>120.0</td>\n",
       "      <td>229.0</td>\n",
       "      <td>0.0</td>\n",
       "      <td>2.0</td>\n",
       "      <td>129.0</td>\n",
       "      <td>1.0</td>\n",
       "      <td>2.6</td>\n",
       "      <td>2.0</td>\n",
       "      <td>2.0</td>\n",
       "      <td>7.0</td>\n",
       "      <td>1.0</td>\n",
       "    </tr>\n",
       "    <tr>\n",
       "      <th>3</th>\n",
       "      <td>37.0</td>\n",
       "      <td>1.0</td>\n",
       "      <td>3.0</td>\n",
       "      <td>130.0</td>\n",
       "      <td>250.0</td>\n",
       "      <td>0.0</td>\n",
       "      <td>0.0</td>\n",
       "      <td>187.0</td>\n",
       "      <td>0.0</td>\n",
       "      <td>3.5</td>\n",
       "      <td>3.0</td>\n",
       "      <td>0.0</td>\n",
       "      <td>3.0</td>\n",
       "      <td>0.0</td>\n",
       "    </tr>\n",
       "    <tr>\n",
       "      <th>4</th>\n",
       "      <td>41.0</td>\n",
       "      <td>0.0</td>\n",
       "      <td>2.0</td>\n",
       "      <td>130.0</td>\n",
       "      <td>204.0</td>\n",
       "      <td>0.0</td>\n",
       "      <td>2.0</td>\n",
       "      <td>172.0</td>\n",
       "      <td>0.0</td>\n",
       "      <td>1.4</td>\n",
       "      <td>1.0</td>\n",
       "      <td>0.0</td>\n",
       "      <td>3.0</td>\n",
       "      <td>0.0</td>\n",
       "    </tr>\n",
       "    <tr>\n",
       "      <th>...</th>\n",
       "      <td>...</td>\n",
       "      <td>...</td>\n",
       "      <td>...</td>\n",
       "      <td>...</td>\n",
       "      <td>...</td>\n",
       "      <td>...</td>\n",
       "      <td>...</td>\n",
       "      <td>...</td>\n",
       "      <td>...</td>\n",
       "      <td>...</td>\n",
       "      <td>...</td>\n",
       "      <td>...</td>\n",
       "      <td>...</td>\n",
       "      <td>...</td>\n",
       "    </tr>\n",
       "    <tr>\n",
       "      <th>292</th>\n",
       "      <td>57.0</td>\n",
       "      <td>0.0</td>\n",
       "      <td>4.0</td>\n",
       "      <td>140.0</td>\n",
       "      <td>241.0</td>\n",
       "      <td>0.0</td>\n",
       "      <td>0.0</td>\n",
       "      <td>123.0</td>\n",
       "      <td>1.0</td>\n",
       "      <td>0.2</td>\n",
       "      <td>2.0</td>\n",
       "      <td>0.0</td>\n",
       "      <td>7.0</td>\n",
       "      <td>1.0</td>\n",
       "    </tr>\n",
       "    <tr>\n",
       "      <th>293</th>\n",
       "      <td>45.0</td>\n",
       "      <td>1.0</td>\n",
       "      <td>1.0</td>\n",
       "      <td>110.0</td>\n",
       "      <td>264.0</td>\n",
       "      <td>0.0</td>\n",
       "      <td>0.0</td>\n",
       "      <td>132.0</td>\n",
       "      <td>0.0</td>\n",
       "      <td>1.2</td>\n",
       "      <td>2.0</td>\n",
       "      <td>0.0</td>\n",
       "      <td>7.0</td>\n",
       "      <td>1.0</td>\n",
       "    </tr>\n",
       "    <tr>\n",
       "      <th>294</th>\n",
       "      <td>68.0</td>\n",
       "      <td>1.0</td>\n",
       "      <td>4.0</td>\n",
       "      <td>144.0</td>\n",
       "      <td>193.0</td>\n",
       "      <td>1.0</td>\n",
       "      <td>0.0</td>\n",
       "      <td>141.0</td>\n",
       "      <td>0.0</td>\n",
       "      <td>3.4</td>\n",
       "      <td>2.0</td>\n",
       "      <td>2.0</td>\n",
       "      <td>7.0</td>\n",
       "      <td>2.0</td>\n",
       "    </tr>\n",
       "    <tr>\n",
       "      <th>295</th>\n",
       "      <td>57.0</td>\n",
       "      <td>1.0</td>\n",
       "      <td>4.0</td>\n",
       "      <td>130.0</td>\n",
       "      <td>131.0</td>\n",
       "      <td>0.0</td>\n",
       "      <td>0.0</td>\n",
       "      <td>115.0</td>\n",
       "      <td>1.0</td>\n",
       "      <td>1.2</td>\n",
       "      <td>2.0</td>\n",
       "      <td>1.0</td>\n",
       "      <td>7.0</td>\n",
       "      <td>3.0</td>\n",
       "    </tr>\n",
       "    <tr>\n",
       "      <th>296</th>\n",
       "      <td>57.0</td>\n",
       "      <td>0.0</td>\n",
       "      <td>2.0</td>\n",
       "      <td>130.0</td>\n",
       "      <td>236.0</td>\n",
       "      <td>0.0</td>\n",
       "      <td>2.0</td>\n",
       "      <td>174.0</td>\n",
       "      <td>0.0</td>\n",
       "      <td>0.0</td>\n",
       "      <td>2.0</td>\n",
       "      <td>1.0</td>\n",
       "      <td>3.0</td>\n",
       "      <td>1.0</td>\n",
       "    </tr>\n",
       "  </tbody>\n",
       "</table>\n",
       "<p>297 rows × 14 columns</p>\n",
       "</div>"
      ],
      "text/plain": [
       "       0    1    2      3      4    5    6      7    8    9    10   11   12  \\\n",
       "0    63.0  1.0  1.0  145.0  233.0  1.0  2.0  150.0  0.0  2.3  3.0  0.0  6.0   \n",
       "1    67.0  1.0  4.0  160.0  286.0  0.0  2.0  108.0  1.0  1.5  2.0  3.0  3.0   \n",
       "2    67.0  1.0  4.0  120.0  229.0  0.0  2.0  129.0  1.0  2.6  2.0  2.0  7.0   \n",
       "3    37.0  1.0  3.0  130.0  250.0  0.0  0.0  187.0  0.0  3.5  3.0  0.0  3.0   \n",
       "4    41.0  0.0  2.0  130.0  204.0  0.0  2.0  172.0  0.0  1.4  1.0  0.0  3.0   \n",
       "..    ...  ...  ...    ...    ...  ...  ...    ...  ...  ...  ...  ...  ...   \n",
       "292  57.0  0.0  4.0  140.0  241.0  0.0  0.0  123.0  1.0  0.2  2.0  0.0  7.0   \n",
       "293  45.0  1.0  1.0  110.0  264.0  0.0  0.0  132.0  0.0  1.2  2.0  0.0  7.0   \n",
       "294  68.0  1.0  4.0  144.0  193.0  1.0  0.0  141.0  0.0  3.4  2.0  2.0  7.0   \n",
       "295  57.0  1.0  4.0  130.0  131.0  0.0  0.0  115.0  1.0  1.2  2.0  1.0  7.0   \n",
       "296  57.0  0.0  2.0  130.0  236.0  0.0  2.0  174.0  0.0  0.0  2.0  1.0  3.0   \n",
       "\n",
       "      13  \n",
       "0    0.0  \n",
       "1    2.0  \n",
       "2    1.0  \n",
       "3    0.0  \n",
       "4    0.0  \n",
       "..   ...  \n",
       "292  1.0  \n",
       "293  1.0  \n",
       "294  2.0  \n",
       "295  3.0  \n",
       "296  1.0  \n",
       "\n",
       "[297 rows x 14 columns]"
      ]
     },
     "execution_count": 161,
     "metadata": {},
     "output_type": "execute_result"
    }
   ],
   "source": [
    "df = pd.DataFrame(data, columns=range(14))\n",
    "df"
   ]
  },
  {
   "cell_type": "code",
   "execution_count": 179,
   "id": "cedef1db",
   "metadata": {},
   "outputs": [],
   "source": [
    "X = np.array(df.iloc[:, :13])\n",
    "y = np.array(df.iloc[:, 13])"
   ]
  },
  {
   "cell_type": "code",
   "execution_count": 180,
   "id": "c361e1fa",
   "metadata": {},
   "outputs": [
    {
     "name": "stdout",
     "output_type": "stream",
     "text": [
      "160 patients with abscense of disease and 137 patients with presence of disease\n"
     ]
    }
   ],
   "source": [
    "'''\n",
    "Indicator = 1 because only 0 value indicates that heart disease is abscent while \n",
    "1<= indicates that heart disease is precesnce to some degree\n",
    "'''\n",
    "indicator = 1\n",
    "y[y >= indicator] = 1\n",
    "y[y < indicator] = 0\n",
    "\n",
    "n_abs = (y == 0).sum()\n",
    "n_pre = (y == 1).sum()\n",
    "print(f'{n_abs} patients with abscense of disease and {n_pre} patients with presence of disease')"
   ]
  },
  {
   "cell_type": "code",
   "execution_count": 181,
   "id": "ebcb289d",
   "metadata": {},
   "outputs": [
    {
     "name": "stdout",
     "output_type": "stream",
     "text": [
      "y_train shape: (237,), y_test shape: (60,)\n"
     ]
    }
   ],
   "source": [
    "from sklearn.model_selection import train_test_split\n",
    "\n",
    "X_train, X_test, y_train, y_test = train_test_split(X, y, test_size=0.2, random_state=31)\n",
    "print(f'y_train shape: {y_train.shape}, y_test shape: {y_test.shape}')"
   ]
  },
  {
   "cell_type": "code",
   "execution_count": 165,
   "id": "410fd12d",
   "metadata": {},
   "outputs": [
    {
     "data": {
      "text/plain": [
       "MultinomialNB()"
      ]
     },
     "execution_count": 165,
     "metadata": {},
     "output_type": "execute_result"
    }
   ],
   "source": [
    "from sklearn.naive_bayes import MultinomialNB\n",
    "\n",
    "# alpha - smoothing factor\n",
    "clf = MultinomialNB(alpha=1.0, fit_prior=True)\n",
    "clf.fit(X_train, y_train)"
   ]
  },
  {
   "cell_type": "code",
   "execution_count": 166,
   "id": "563f880f",
   "metadata": {},
   "outputs": [
    {
     "name": "stdout",
     "output_type": "stream",
     "text": [
      "[[1.62617094e-03 9.98373829e-01]\n",
      " [1.37782966e-02 9.86221703e-01]\n",
      " [9.95538738e-01 4.46126186e-03]\n",
      " [9.98390259e-01 1.60974105e-03]\n",
      " [9.72042309e-04 9.99027958e-01]\n",
      " [9.95350041e-01 4.64995928e-03]]\n"
     ]
    }
   ],
   "source": [
    "pred_prob = clf.predict_proba(X_test)\n",
    "print(pred_prob[:6])"
   ]
  },
  {
   "cell_type": "code",
   "execution_count": 167,
   "id": "803e424a",
   "metadata": {},
   "outputs": [
    {
     "name": "stdout",
     "output_type": "stream",
     "text": [
      "[1. 1. 0. 0. 1. 0.]\n"
     ]
    }
   ],
   "source": [
    "pred = clf.predict(X_test)\n",
    "print(pred[:6])"
   ]
  },
  {
   "cell_type": "code",
   "execution_count": 168,
   "id": "23827ffa",
   "metadata": {},
   "outputs": [
    {
     "name": "stdout",
     "output_type": "stream",
     "text": [
      "The accuracy = 78.3%\n"
     ]
    }
   ],
   "source": [
    "accuracy = clf.score(X_test, y_test)\n",
    "print(f'The accuracy = {accuracy*100:.1f}%')"
   ]
  },
  {
   "cell_type": "code",
   "execution_count": 169,
   "id": "656ac48c",
   "metadata": {},
   "outputs": [
    {
     "name": "stdout",
     "output_type": "stream",
     "text": [
      "[[24  4]\n",
      " [ 9 23]]\n"
     ]
    }
   ],
   "source": [
    "from sklearn.metrics import confusion_matrix\n",
    "print(confusion_matrix(y_test, pred, labels=[0, 1]))"
   ]
  },
  {
   "cell_type": "code",
   "execution_count": 170,
   "id": "bf2e9c4b",
   "metadata": {},
   "outputs": [
    {
     "name": "stdout",
     "output_type": "stream",
     "text": [
      "precision_score: 0.8518518518518519\n",
      "recall_score: 0.71875\n",
      "f1_score: 0.7796610169491525\n"
     ]
    }
   ],
   "source": [
    "from sklearn.metrics import precision_score, recall_score, f1_score\n",
    "\n",
    "print(f'precision_score: {precision_score(y_test, pred, pos_label=1)}')\n",
    "print(f'recall_score: {recall_score(y_test, pred, pos_label=1)}')\n",
    "print(f'f1_score: {f1_score(y_test, pred, pos_label=1)}')"
   ]
  },
  {
   "cell_type": "code",
   "execution_count": 171,
   "id": "a5fcd379",
   "metadata": {},
   "outputs": [
    {
     "name": "stdout",
     "output_type": "stream",
     "text": [
      "              precision    recall  f1-score   support\n",
      "\n",
      "         0.0       0.73      0.86      0.79        28\n",
      "         1.0       0.85      0.72      0.78        32\n",
      "\n",
      "    accuracy                           0.78        60\n",
      "   macro avg       0.79      0.79      0.78        60\n",
      "weighted avg       0.79      0.78      0.78        60\n",
      "\n"
     ]
    }
   ],
   "source": [
    "from sklearn.metrics import classification_report\n",
    "\n",
    "print(classification_report(y_test, pred))"
   ]
  },
  {
   "cell_type": "code",
   "execution_count": 172,
   "id": "e0ff1262",
   "metadata": {},
   "outputs": [],
   "source": [
    "pos_prob = pred_prob[:, 1]\n",
    "thresholds = np.arange(0.0, 1.1, 0.05)\n",
    "true_pos, false_pos = [0]*len(thresholds), [0]*len(thresholds)\n",
    "for pred, y in zip(pos_prob, y_test):\n",
    "    for i, threshold in enumerate(thresholds):\n",
    "        if pred >= threshold:\n",
    "            if y == 1:\n",
    "                true_pos[i] += 1\n",
    "            else:\n",
    "                false_pos[i] += 1\n",
    "        else:\n",
    "            break"
   ]
  },
  {
   "cell_type": "code",
   "execution_count": 173,
   "id": "fc705c61",
   "metadata": {},
   "outputs": [],
   "source": [
    "n_pos_test = (y_test == 1).sum()\n",
    "n_neg_test = (y_test == 0).sum()\n",
    "true_pos_rate = [tp/n_pos_test for tp in true_pos]\n",
    "false_pos_rate = [fp/n_neg_test for fp in false_pos]"
   ]
  },
  {
   "cell_type": "code",
   "execution_count": 174,
   "id": "67efcbd1",
   "metadata": {},
   "outputs": [
    {
     "data": {
      "text/plain": [
       "Text(0.5, 1.0, 'ROC curve')"
      ]
     },
     "execution_count": 174,
     "metadata": {},
     "output_type": "execute_result"
    },
    {
     "data": {
      "image/png": "[encoded data removed]",
      "text/plain": [
       "<Figure size 432x288 with 1 Axes>"
      ]
     },
     "metadata": {
      "needs_background": "light"
     },
     "output_type": "display_data"
    }
   ],
   "source": [
    "plt.plot(false_pos_rate, true_pos_rate, color='red', linewidth=3)\n",
    "plt.plot([0, 1], [0, 1], color='blue', linewidth=3, linestyle='--')\n",
    "plt.xlim([0.0, 1.0])\n",
    "plt.ylim([0.0, 1.05])\n",
    "plt.xlabel(\"False Positive Rate (FPR)\")\n",
    "plt.ylabel(\"True Positive Rate (TPR)\")\n",
    "plt.title(\"ROC curve\")"
   ]
  },
  {
   "cell_type": "code",
   "execution_count": 175,
   "id": "23f59386",
   "metadata": {},
   "outputs": [
    {
     "data": {
      "text/plain": [
       "0.8549107142857143"
      ]
     },
     "execution_count": 175,
     "metadata": {},
     "output_type": "execute_result"
    }
   ],
   "source": [
    "from sklearn.metrics import roc_auc_score\n",
    "roc_auc_score(y_test, pos_prob)"
   ]
  },
  {
   "cell_type": "code",
   "execution_count": 176,
   "id": "34886617",
   "metadata": {},
   "outputs": [],
   "source": [
    "from sklearn.model_selection import StratifiedKFold\n",
    "\n",
    "k_fold = StratifiedKFold(n_splits=5)"
   ]
  },
  {
   "cell_type": "code",
   "execution_count": 177,
   "id": "38b658fe",
   "metadata": {},
   "outputs": [],
   "source": [
    "smoothing_factor_option = [1, 2, 3, 4, 5]\n",
    "fit_prior_option = [True, False]\n",
    "auc_record = {}"
   ]
  },
  {
   "cell_type": "code",
   "execution_count": 182,
   "id": "69e99d49",
   "metadata": {},
   "outputs": [],
   "source": [
    "for train_indices, test_indices in k_fold.split(X, y):\n",
    "    X_train, X_test = X[train_indices], X[test_indices]\n",
    "    y_train, y_test = y[train_indices], y[test_indices]\n",
    "    for alpha in smoothing_factor_option:\n",
    "        if alpha not in auc_record:\n",
    "            auc_record[alpha] = {}\n",
    "        for fit_prior in fit_prior_option:\n",
    "            clf = MultinomialNB(alpha=alpha, fit_prior=fit_prior)\n",
    "            clf.fit(X_train, y_train)\n",
    "            pred_prob = clf.predict_proba(X_test)\n",
    "            pos_prob = pred_prob[:, 1]\n",
    "            auc = roc_auc_score(y_test, pos_prob)\n",
    "            auc_record[alpha][fit_prior] = auc + auc_record[alpha].get(fit_prior, 0.0)\n"
   ]
  },
  {
   "cell_type": "code",
   "execution_count": 183,
   "id": "22df4c41",
   "metadata": {},
   "outputs": [
    {
     "name": "stdout",
     "output_type": "stream",
     "text": [
      "1    True    0.85805\n",
      "1    False    0.85805\n",
      "2    True    0.85760\n",
      "2    False    0.85760\n",
      "3    True    0.85692\n",
      "3    False    0.85692\n",
      "4    True    0.85669\n",
      "4    False    0.85669\n",
      "5    True    0.85623\n",
      "5    False    0.85623\n"
     ]
    }
   ],
   "source": [
    "for smoothing, smoothing_record in auc_record.items():\n",
    "    for fit_prior, auc in smoothing_record.items():\n",
    "        print(f'{smoothing}    {fit_prior}    {auc/5:.5f}')"
   ]
  },
  {
   "cell_type": "code",
   "execution_count": 184,
   "id": "2e998e14",
   "metadata": {},
   "outputs": [
    {
     "name": "stdout",
     "output_type": "stream",
     "text": [
      "AUC with the best parameters: 0.8171296296296295\n"
     ]
    }
   ],
   "source": [
    "clf = MultinomialNB(alpha=1.0, fit_prior=False)\n",
    "clf.fit(X_train, y_train)\n",
    "pos_prob = clf.predict_proba(X_test)[:, 1]\n",
    "print(f'AUC with the best parameters: {roc_auc_score(y_test, pos_prob)}')"
   ]
  },
  {
   "cell_type": "code",
   "execution_count": 185,
   "id": "cb4d63fe",
   "metadata": {},
   "outputs": [
    {
     "data": {
      "text/plain": [
       "0.7288135593220338"
      ]
     },
     "execution_count": 185,
     "metadata": {},
     "output_type": "execute_result"
    }
   ],
   "source": [
    "clf.score(X_test, y_test)"
   ]
  },
  {
   "cell_type": "code",
   "execution_count": null,
   "id": "f171a011",
   "metadata": {},
   "outputs": [],
   "source": []
  }
 ],
 "metadata": {
  "kernelspec": {
   "display_name": "Python 3 (ipykernel)",
   "language": "python",
   "name": "python3"
  },
  "language_info": {
   "codemirror_mode": {
    "name": "ipython",
    "version": 3
   },
   "file_extension": ".py",
   "mimetype": "text/x-python",
   "name": "python",
   "nbconvert_exporter": "python",
   "pygments_lexer": "ipython3",
   "version": "3.9.7"
  }
 },
 "nbformat": 4,
 "nbformat_minor": 5
}
